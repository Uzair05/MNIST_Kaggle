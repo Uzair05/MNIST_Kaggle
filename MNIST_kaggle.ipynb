{
 "cells": [
  {
   "cell_type": "markdown",
   "source": [
    "# MNIST Character Detection\n",
    "## Impleneted by CNN using tensorflow"
   ],
   "metadata": {}
  },
  {
   "cell_type": "code",
   "execution_count": null,
   "source": [
    "!#pip install tensorflow numpy pandas matplotlib"
   ],
   "outputs": [],
   "metadata": {}
  },
  {
   "cell_type": "code",
   "execution_count": null,
   "source": [
    "import tensorflow as tf\r\n",
    "import numpy as np\r\n",
    "import pandas as pd\r\n",
    "import matplotlib.pyplot as plt\r\n",
    "\r\n",
    "np.set_printoptions(linewidth=200)"
   ],
   "outputs": [],
   "metadata": {}
  },
  {
   "cell_type": "code",
   "execution_count": null,
   "source": [
    "chart = pd.read_csv(\"./data/train.csv\")"
   ],
   "outputs": [],
   "metadata": {}
  },
  {
   "cell_type": "code",
   "execution_count": null,
   "source": [
    "x_train = chart.to_numpy()\r\n",
    "y_train, x_train = x_train[:, 0], x_train[:,1:]\r\n",
    "x_train = x_train.reshape(42000, 28, 28)\r\n",
    "\r\n",
    "x_train = x_train/255.0"
   ],
   "outputs": [],
   "metadata": {
    "collapsed": true
   }
  },
  {
   "cell_type": "code",
   "execution_count": null,
   "source": [
    "class myCallback(tf.keras.callbacks.Callback):\r\n",
    "    def on_epoch_end(self, epoch, logs={}):\r\n",
    "        if (logs.get('accuracy') >= 0.95):  # Experiment with changing this value\r\n",
    "            print(\"\\nReached 95% accuracy so cancelling training!\")\r\n",
    "            self.model.stop_training = True\r\n",
    "\r\n",
    "\r\n",
    "callbacks = myCallback()\r\n",
    "\r\n",
    "model = tf.keras.models.Sequential([\r\n",
    "    #tf.keras.layers.Conv2D()\r\n",
    "    tf.keras.layers.Flatten(input_shape=(28, 28)),\r\n",
    "    tf.keras.layers.Dense(128, activation=tf.nn.relu),\r\n",
    "    tf.keras.layers.Dense(10, activation=tf.nn.softmax)])\r\n",
    "\r\n",
    "model.compile(\r\n",
    "    optimizer = tf.optimizers.Adam(),\r\n",
    "    loss = 'sparse_categorical_crossentropy',\r\n",
    "    metrics=['accuracy'])"
   ],
   "outputs": [],
   "metadata": {}
  },
  {
   "cell_type": "code",
   "execution_count": null,
   "source": [
    "model.fit(x_train, y_train, epochs=10, callbacks=[callbacks])"
   ],
   "outputs": [],
   "metadata": {}
  },
  {
   "cell_type": "code",
   "execution_count": null,
   "source": [
    "test_variables = pd.read_csv(\"./data/test.csv\")\r\n",
    "x_test = test_variables.to_numpy()\r\n",
    "x_test = x_test.reshape(x_test.shape[0], 28, 28)"
   ],
   "outputs": [],
   "metadata": {}
  },
  {
   "cell_type": "code",
   "execution_count": null,
   "source": [
    "predictions = model.predict(x_test)\r\n",
    "predicted_value = np.argmax(predictions, axis=1)\r\n",
    "print(predicted_value.shape)"
   ],
   "outputs": [],
   "metadata": {}
  },
  {
   "cell_type": "code",
   "execution_count": null,
   "source": [
    "predicted_value = predicted_value.reshape(predicted_value.shape[0], 1)\r\n",
    "img_id = np.arange(start=1,\r\n",
    "                   stop=(predicted_value.shape[0] + 1),\r\n",
    "                   step=1,\r\n",
    "                   dtype=int).reshape(predicted_value.shape[0], 1)\r\n",
    "predicted_value = np.hstack((img_id, predicted_value))\r\n",
    "\r\n",
    "print(predicted_value)\r\n"
   ],
   "outputs": [],
   "metadata": {}
  },
  {
   "cell_type": "code",
   "execution_count": null,
   "source": [
    "results = pd.DataFrame(predicted_value, columns=['ImageId', 'Label'])\r\n",
    "results.to_csv('./my_submission.csv', index=False)\r\n"
   ],
   "outputs": [],
   "metadata": {}
  }
 ],
 "metadata": {
  "interpreter": {
   "hash": "85c613298e2573a698747096a05ed0fa75bd0f57ffe828e7c5873ae05c08a3c6"
  },
  "kernelspec": {
   "name": "python3",
   "display_name": "Python 3.9.7 64-bit"
  },
  "language_info": {
   "codemirror_mode": {
    "name": "ipython",
    "version": 3
   },
   "file_extension": ".py",
   "mimetype": "text/x-python",
   "name": "python",
   "nbconvert_exporter": "python",
   "pygments_lexer": "ipython3",
   "version": "3.9.7"
  }
 },
 "nbformat": 4,
 "nbformat_minor": 5
}